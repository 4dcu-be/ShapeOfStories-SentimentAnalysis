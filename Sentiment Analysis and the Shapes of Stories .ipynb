{
 "cells": [
  {
   "cell_type": "markdown",
   "metadata": {},
   "source": [
    "# Sentiment Analysis and the Shapes of Stories \n",
    "\n",
    "When I accidentally stumbled upon a presentation from [Kurt Vonnegut](https://en.wikipedia.org/wiki/Kurt_Vonnegut) on how [stories have a shape](https://www.youtube.com/watch?v=GOGru_4z1Vc) I started thinking... \"Would you be able to use natural language processing (NLP) to pick up these shapes based on sentiment analysis of the paragraphs?\" So here I'll show you the approach I came up with, and the application on [J.R.R. Tolkien](https://en.wikipedia.org/wiki/J._R._R._Tolkien)'s [Lord of the Rings](https://en.wikipedia.org/wiki/The_Lord_of_the_Rings).\n",
    "\n",
    "\n",
    "To run this notebook I recomment installing **Anaconda**, it comes with all required packages included.\n",
    "\n",
    "\n",
    "## Sentiment Analysis in Python\n",
    "\n",
    "Python has the [Natural Language Toolkit](https://www.nltk.org/) which includes a very easy way to do sentiment analysis. Import the correct library, create a SentimentIntsenityAnalyzer() and apply it on a fragment of text. Done! Just look at the examples below how a few lines of code can pick up which fragments are positive, negative or neutral (reflected in the 'pos', 'neg', 'neu'). Furthermore there is a **compound score** that is positive if the overall sentiment of the text is good and negative if it is bad, this is the metric we want to create the shape of the story."
   ]
  },
  {
   "cell_type": "code",
   "execution_count": 1,
   "metadata": {},
   "outputs": [],
   "source": [
    "from nltk.sentiment.vader import SentimentIntensityAnalyzer\n",
    "sid = SentimentIntensityAnalyzer()"
   ]
  },
  {
   "cell_type": "code",
   "execution_count": 2,
   "metadata": {},
   "outputs": [
    {
     "name": "stdout",
     "output_type": "stream",
     "text": [
      "{'neg': 0.0, 'neu': 0.415, 'pos': 0.585, 'compound': 0.906}\n",
      "{'neg': 0.427, 'neu': 0.573, 'pos': 0.0, 'compound': -0.7717}\n",
      "{'neg': 0.0, 'neu': 1.0, 'pos': 0.0, 'compound': 0.0}\n"
     ]
    }
   ],
   "source": [
    "print(sid.polarity_scores(\"He smiled, he was happy. It had been an amazing day!\"))\n",
    "# {'compound': 0.906, 'neg': 0.0, 'neu': 0.415, 'pos': 0.585}\n",
    "print(sid.polarity_scores(\"They feared the others. When they show up, bad things happen.\"))\n",
    "# {'compound': 0.906, 'neg': 0.0, 'neu': 0.415, 'pos': 0.585}\n",
    "print(sid.polarity_scores(\"While driving to their destination, nothing happened.\"))\n",
    "# {'compound': 0.0, 'neg': 0.0, 'neu': 1.0, 'pos': 0.0}"
   ]
  },
  {
   "cell_type": "markdown",
   "metadata": {},
   "source": [
    "## Parsing your book\n",
    "\n",
    "You'll have to go over your book and extract the paragraphs. Titles, subtitles, ... will need to be removed. Specifically for Lord of the Rings - The Fellowship of the Ring dialog and songs were removed as well. Only paragraphs of sufficient length are stored. So in total we are only considering the 303 longest paragraphs in this book for the analysis. \n",
    "\n",
    "I stored the parsed book to a .json file like this:\n",
    "\n",
    "```json\n",
    "[\n",
    "  { \"paragraph\" : \"Paragraph one text...\" },\n",
    "  { \"paragraph\" : \"Paragraph two text...\" },\n",
    "  ...\n",
    "]\n",
    "```\n",
    "\n",
    "As LotR is protected by copyright. I have both a physical as a digital copy legally, though I can't share the parsed book here.\n",
    "\n",
    "Using the code below, this file can be loaded and the sentiment analysis applied to each paragraph. Scores are stored into a pandas dataframe. As sentiment analysis can be rather noisy and one paragraph can be very positive, followed by a rather negative one, however a few negative ones in a row are relevant. Therefore a rolling window will be applied to the scores to get the average score over a number of paragraphs."
   ]
  },
  {
   "cell_type": "code",
   "execution_count": 1,
   "metadata": {},
   "outputs": [],
   "source": [
    "# Only execute this cell if you have a JSON file with your paragraphs, as LotR is not free this file cannot be included in the\n",
    "# repository. However, this part is essential to show how the sentiment anlysis is done.\n",
    "\n",
    "import json\n",
    "import pandas as pd\n",
    "from nltk.sentiment.vader import SentimentIntensityAnalyzer\n",
    "sid = SentimentIntensityAnalyzer()\n",
    "\n",
    "data = []\n",
    "with open('./output/The_Fellowship_Of_The_Ring.paragraphs.json', 'r') as fin:\n",
    "    data = json.load(fin)\n",
    "\n",
    "    \n",
    "df = pd.DataFrame([sid.polarity_scores(p['paragraph']) for p in data])\n",
    "df.to_csv('The_Fellowship_Of_The_Ring.scores.csv')\n",
    "df.head()\n"
   ]
  },
  {
   "cell_type": "code",
   "execution_count": 4,
   "metadata": {},
   "outputs": [],
   "source": [
    "# In case you want to follow along with this notebook, skip the previous cell and load this one instead. Here it will load all\n",
    "# sentiment scores for The fellowship of the ring\n",
    "\n",
    "import json\n",
    "import pandas as pd\n",
    "\n",
    "df = pd.read_csv('The_Fellowship_Of_The_Ring.scores.csv')\n"
   ]
  },
  {
   "cell_type": "code",
   "execution_count": 5,
   "metadata": {},
   "outputs": [
    {
     "data": {
      "text/html": [
       "<div>\n",
       "<style scoped>\n",
       "    .dataframe tbody tr th:only-of-type {\n",
       "        vertical-align: middle;\n",
       "    }\n",
       "\n",
       "    .dataframe tbody tr th {\n",
       "        vertical-align: top;\n",
       "    }\n",
       "\n",
       "    .dataframe thead th {\n",
       "        text-align: right;\n",
       "    }\n",
       "</style>\n",
       "<table border=\"1\" class=\"dataframe\">\n",
       "  <thead>\n",
       "    <tr style=\"text-align: right;\">\n",
       "      <th></th>\n",
       "      <th>Unnamed: 0</th>\n",
       "      <th>compound</th>\n",
       "      <th>neg</th>\n",
       "      <th>neu</th>\n",
       "      <th>pos</th>\n",
       "      <th>paragraph_num</th>\n",
       "      <th>smooth_compound</th>\n",
       "    </tr>\n",
       "  </thead>\n",
       "  <tbody>\n",
       "    <tr>\n",
       "      <th>0</th>\n",
       "      <td>0</td>\n",
       "      <td>0.9676</td>\n",
       "      <td>0.048</td>\n",
       "      <td>0.782</td>\n",
       "      <td>0.170</td>\n",
       "      <td>1</td>\n",
       "      <td>NaN</td>\n",
       "    </tr>\n",
       "    <tr>\n",
       "      <th>1</th>\n",
       "      <td>1</td>\n",
       "      <td>0.9384</td>\n",
       "      <td>0.069</td>\n",
       "      <td>0.783</td>\n",
       "      <td>0.148</td>\n",
       "      <td>2</td>\n",
       "      <td>NaN</td>\n",
       "    </tr>\n",
       "    <tr>\n",
       "      <th>2</th>\n",
       "      <td>2</td>\n",
       "      <td>0.9645</td>\n",
       "      <td>0.070</td>\n",
       "      <td>0.845</td>\n",
       "      <td>0.086</td>\n",
       "      <td>3</td>\n",
       "      <td>NaN</td>\n",
       "    </tr>\n",
       "    <tr>\n",
       "      <th>3</th>\n",
       "      <td>3</td>\n",
       "      <td>0.7550</td>\n",
       "      <td>0.050</td>\n",
       "      <td>0.891</td>\n",
       "      <td>0.059</td>\n",
       "      <td>4</td>\n",
       "      <td>NaN</td>\n",
       "    </tr>\n",
       "    <tr>\n",
       "      <th>4</th>\n",
       "      <td>4</td>\n",
       "      <td>0.9870</td>\n",
       "      <td>0.025</td>\n",
       "      <td>0.775</td>\n",
       "      <td>0.200</td>\n",
       "      <td>5</td>\n",
       "      <td>NaN</td>\n",
       "    </tr>\n",
       "  </tbody>\n",
       "</table>\n",
       "</div>"
      ],
      "text/plain": [
       "   Unnamed: 0  compound    neg    neu    pos  paragraph_num  smooth_compound\n",
       "0           0    0.9676  0.048  0.782  0.170              1              NaN\n",
       "1           1    0.9384  0.069  0.783  0.148              2              NaN\n",
       "2           2    0.9645  0.070  0.845  0.086              3              NaN\n",
       "3           3    0.7550  0.050  0.891  0.059              4              NaN\n",
       "4           4    0.9870  0.025  0.775  0.200              5              NaN"
      ]
     },
     "execution_count": 5,
     "metadata": {},
     "output_type": "execute_result"
    }
   ],
   "source": [
    "# Create a column with paragraph numbers (starting with 1)\n",
    "df['paragraph_num'] = df.index + 1\n",
    "\n",
    "# Apply a rolling window on the compound and zlog score to smooth out noise\n",
    "# Downside is that the first and last elements will be NA\n",
    "df['smooth_compound'] = df['compound'].rolling(window=20, center=True, win_type='triang').mean()\n",
    "df.head()"
   ]
  },
  {
   "cell_type": "code",
   "execution_count": 5,
   "metadata": {},
   "outputs": [
    {
     "data": {
      "text/plain": [
       "<Figure size 1500x600 with 1 Axes>"
      ]
     },
     "metadata": {},
     "output_type": "display_data"
    }
   ],
   "source": [
    "import seaborn as sns\n",
    "import matplotlib.pyplot as plt\n",
    "\n",
    "plt.rcParams['figure.figsize'] = [15, 6]\n",
    "\n",
    "blue = (0.2980392156862745, 0.4470588235294118, 0.6901960784313725)\n",
    "green = (0.3333333333333333, 0.6588235294117647, 0.40784313725490196)\n",
    "\n",
    "sns.set_style(\"white\")\n",
    "plt.title('Lord of the Rings - The Fellowship of the Ring')\n",
    "plt.xlabel('Paragraph')\n",
    "plt.ylabel('Sentiment')\n",
    "plt.xticks([])\n",
    "plt.yticks([])\n",
    "\n",
    "plt.fill_between(df.paragraph_num, 0, df.smooth_compound, alpha=0.5, where=df.smooth_compound >= 0, facecolor=green, interpolate=True)\n",
    "plt.fill_between(df.paragraph_num, 0, df.smooth_compound, alpha=0.5, where=df.smooth_compound < 0, facecolor=blue, interpolate=True)\n",
    "\n",
    "plt.axhline(linewidth=1.5, c='gray', alpha=0.3)\n",
    "\n",
    "with open('Fellowship.svg','wb') as svg_out:\n",
    "    plt.savefig(svg_out, format=\"svg\")\n",
    "\n",
    "plt.show()"
   ]
  },
  {
   "cell_type": "markdown",
   "metadata": {},
   "source": [
    "## The shape of Lord of the Rings - The fellowship of the Ring\n",
    "\n",
    "**Spoiler alert** the next paragraph contains rather explicit spoilers about both the book and the movie. If you don't want either to be spoiled stop reading here.\n",
    "\n",
    "As you can see the story oscilates between positive and negative parts, one of the shapes Kurt Vonnegut describes albeit repeated several times. Lets zoom into some sections to see if this makes sense.\n",
    "\n",
    "### Paragraph 1-114\n",
    "\n",
    "Tolkien is known for his eye for detail which often results in lengthy descriptions of locations, characters and history. The book starts with Bilbo's 111th birthday celebrations and introduces the Shire (where the Hobbits live), their habits and homes in great detail. \n",
    "\n",
    "### Paragraph 115-148\n",
    "\n",
    "In the book as in the movie this is the first part that is really quite grim and dark. The black-riders (ring-wraiths) arrive in Bree where the Hobbits just met Aragon, causing mayham in the village. Next, the Hobbits and Aragon flee but end up facing the nine Riders on Weathertop, Frodo gets injured badly and they have to hurry to Rivendell. \n",
    "\n",
    "### Paragraph 149-159\n",
    "\n",
    "The fellowship is safe in Rivendell. \n",
    "\n",
    "### Paragraph 160-198\n",
    "\n",
    "Here a lot of the history of Sauron is unveiled, also the story of Gandalf and Saruman is presented and Gollum is interoduced. All of this leads up to the creation of the Fellowship of the Ring and their departure from Rivendell.\n",
    "\n",
    "### Paragraph 199-210\n",
    "\n",
    "The fellowship is on the road, at first their journey is fine but as the approas Caradhras the run into problems and decide to take a more perilous path through the Mines of Moria.\n",
    "\n",
    "### Paragraph 211-250\n",
    "\n",
    "The fellowship enters the Mines and ultimately encounters the Balrog. Gandalf falls into the abyss after shoutig \"Fly, you fools\" and is presumed dead. The others escape the Mines with their lives.\n",
    "\n",
    "### Paragraph 250-290\n",
    "\n",
    "Lothlórien, the fellowship enters the forest and meets Galadriel the Lady of Lórien. They have time to find their strength again and leave with fresh supplies and gear.\n",
    "\n",
    "\n",
    "### Paragraph 290-303\n",
    "\n",
    "Boromir betrays the fellowship and attempts to get the ring. As a consequence Frodo takes off with Sam breaking up the fellowship."
   ]
  },
  {
   "cell_type": "code",
   "execution_count": 6,
   "metadata": {},
   "outputs": [
    {
     "data": {
      "image/png": "[encoded data removed]",
      "text/plain": [
       "<Figure size 432x288 with 1 Axes>"
      ]
     },
     "metadata": {},
     "output_type": "display_data"
    }
   ],
   "source": [
    "annotations = [\n",
    "    ('Frodo meets Aragorn', (105, df.iloc[104]['smooth_compound'])),\n",
    "    ('Black Riders arrive in Bree', (116, df.iloc[115]['smooth_compound'])),\n",
    "    ('Black Riders assembling near Weathertop', (129, df.iloc[128]['smooth_compound'])),\n",
    "    ('Frodo meets up with Bilbo in Rivendell', (152, df.iloc[151]['smooth_compound'])),\n",
    "    ('\"Fly, you fools\"', (241, df.iloc[240]['smooth_compound']))\n",
    "]\n",
    "\n",
    "sns.set_style(\"white\")\n",
    "plt.title('Lord of the Rings - The Fellowship of the Ring')\n",
    "plt.xlabel('Paragraph')\n",
    "plt.ylabel('Sentiment')\n",
    "plt.xticks([])\n",
    "plt.yticks([])\n",
    "\n",
    "plt.fill_between(df.paragraph_num, 0, df.smooth_compound, alpha=0.5, where=df.smooth_compound >= 0, facecolor=green, interpolate=True)\n",
    "plt.fill_between(df.paragraph_num, 0, df.smooth_compound, alpha=0.5, where=df.smooth_compound < 0, facecolor=blue, interpolate=True)\n",
    "\n",
    "plt.axhline(linewidth=1.5, c='gray', alpha=0.3)\n",
    "\n",
    "for a, (x,y) in annotations:\n",
    "    plt.scatter(x, y, c='black', alpha=0.3)\n",
    "    plt.annotate(a, (x,y+0.05))\n",
    "  \n",
    "with open('Fellowship.annotated.svg','wb') as svg_out:\n",
    "    plt.savefig(svg_out, format=\"svg\")\n",
    "    \n",
    "plt.show()"
   ]
  }
 ],
 "metadata": {
  "anaconda-cloud": {},
  "kernelspec": {
   "display_name": "Python [conda root]",
   "language": "python",
   "name": "conda-root-py"
  },
  "language_info": {
   "codemirror_mode": {
    "name": "ipython",
    "version": 3
   },
   "file_extension": ".py",
   "mimetype": "text/x-python",
   "name": "python",
   "nbconvert_exporter": "python",
   "pygments_lexer": "ipython3",
   "version": "3.6.1"
  }
 },
 "nbformat": 4,
 "nbformat_minor": 2
}
